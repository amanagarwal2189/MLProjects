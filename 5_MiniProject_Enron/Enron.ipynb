{
 "cells": [
  {
   "cell_type": "code",
   "execution_count": 3,
   "metadata": {
    "collapsed": false
   },
   "outputs": [
    {
     "name": "stderr",
     "output_type": "stream",
     "text": [
      "C:\\Users\\Dell\\Anaconda3\\lib\\site-packages\\pandas\\computation\\__init__.py:19: UserWarning: The installed version of numexpr 2.4.4 is not supported in pandas and will be not be used\n",
      "\n",
      "  UserWarning)\n"
     ]
    }
   ],
   "source": [
    "import pandas as py\n",
    "import pickle\n",
    "\n",
    "enron_data = pickle.load(open(\"D:/Github/MLWithPython/5_MiniProject_Enron/final_project/final_project_dataset.pkl\", \"br\"))"
   ]
  },
  {
   "cell_type": "code",
   "execution_count": 4,
   "metadata": {
    "collapsed": false
   },
   "outputs": [
    {
     "name": "stdout",
     "output_type": "stream",
     "text": [
      "146\n"
     ]
    }
   ],
   "source": [
    "enron_df=py.DataFrame.from_dict(enron_data).T\n",
    "print(len(enron_data))"
   ]
  },
  {
   "cell_type": "code",
   "execution_count": 3,
   "metadata": {
    "collapsed": false
   },
   "outputs": [
    {
     "name": "stdout",
     "output_type": "stream",
     "text": [
      "Index(['ALLEN PHILLIP K', 'BADUM JAMES P', 'BANNANTINE JAMES M',\n",
      "       'BAXTER JOHN C', 'BAY FRANKLIN R', 'BAZELIDES PHILIP J', 'BECK SALLY W',\n",
      "       'BELDEN TIMOTHY N', 'BELFER ROBERT', 'BERBERIAN DAVID',\n",
      "       ...\n",
      "       'WASAFF GEORGE', 'WESTFAHL RICHARD K', 'WHALEY DAVID A',\n",
      "       'WHALLEY LAWRENCE G', 'WHITE JR THOMAS E', 'WINOKUR JR. HERBERT S',\n",
      "       'WODRASKA JOHN', 'WROBEL BRUCE', 'YEAGER F SCOTT', 'YEAP SOON'],\n",
      "      dtype='object', length=146)\n"
     ]
    }
   ],
   "source": [
    "print(enron_df.index)"
   ]
  },
  {
   "cell_type": "code",
   "execution_count": 4,
   "metadata": {
    "collapsed": false
   },
   "outputs": [
    {
     "name": "stdout",
     "output_type": "stream",
     "text": [
      "Index(['bonus', 'deferral_payments', 'deferred_income', 'director_fees',\n",
      "       'email_address', 'exercised_stock_options', 'expenses', 'from_messages',\n",
      "       'from_poi_to_this_person', 'from_this_person_to_poi', 'loan_advances',\n",
      "       'long_term_incentive', 'other', 'poi', 'restricted_stock',\n",
      "       'restricted_stock_deferred', 'salary', 'shared_receipt_with_poi',\n",
      "       'to_messages', 'total_payments', 'total_stock_value'],\n",
      "      dtype='object')\n"
     ]
    }
   ],
   "source": [
    "print(enron_df.columns)"
   ]
  },
  {
   "cell_type": "code",
   "execution_count": 5,
   "metadata": {
    "collapsed": false
   },
   "outputs": [
    {
     "data": {
      "text/html": [
       "<div>\n",
       "<table border=\"1\" class=\"dataframe\">\n",
       "  <thead>\n",
       "    <tr style=\"text-align: right;\">\n",
       "      <th></th>\n",
       "      <th>bonus</th>\n",
       "      <th>deferral_payments</th>\n",
       "      <th>deferred_income</th>\n",
       "      <th>director_fees</th>\n",
       "      <th>email_address</th>\n",
       "      <th>exercised_stock_options</th>\n",
       "      <th>expenses</th>\n",
       "      <th>from_messages</th>\n",
       "      <th>from_poi_to_this_person</th>\n",
       "      <th>from_this_person_to_poi</th>\n",
       "      <th>...</th>\n",
       "      <th>long_term_incentive</th>\n",
       "      <th>other</th>\n",
       "      <th>poi</th>\n",
       "      <th>restricted_stock</th>\n",
       "      <th>restricted_stock_deferred</th>\n",
       "      <th>salary</th>\n",
       "      <th>shared_receipt_with_poi</th>\n",
       "      <th>to_messages</th>\n",
       "      <th>total_payments</th>\n",
       "      <th>total_stock_value</th>\n",
       "    </tr>\n",
       "  </thead>\n",
       "  <tbody>\n",
       "    <tr>\n",
       "      <th>ALLEN PHILLIP K</th>\n",
       "      <td>4175000</td>\n",
       "      <td>2869717</td>\n",
       "      <td>-3081055</td>\n",
       "      <td>NaN</td>\n",
       "      <td>phillip.allen@enron.com</td>\n",
       "      <td>1729541</td>\n",
       "      <td>13868</td>\n",
       "      <td>2195</td>\n",
       "      <td>47</td>\n",
       "      <td>65</td>\n",
       "      <td>...</td>\n",
       "      <td>304805</td>\n",
       "      <td>152</td>\n",
       "      <td>False</td>\n",
       "      <td>126027</td>\n",
       "      <td>-126027</td>\n",
       "      <td>201955</td>\n",
       "      <td>1407</td>\n",
       "      <td>2902</td>\n",
       "      <td>4484442</td>\n",
       "      <td>1729541</td>\n",
       "    </tr>\n",
       "    <tr>\n",
       "      <th>BADUM JAMES P</th>\n",
       "      <td>NaN</td>\n",
       "      <td>178980</td>\n",
       "      <td>NaN</td>\n",
       "      <td>NaN</td>\n",
       "      <td>NaN</td>\n",
       "      <td>257817</td>\n",
       "      <td>3486</td>\n",
       "      <td>NaN</td>\n",
       "      <td>NaN</td>\n",
       "      <td>NaN</td>\n",
       "      <td>...</td>\n",
       "      <td>NaN</td>\n",
       "      <td>NaN</td>\n",
       "      <td>False</td>\n",
       "      <td>NaN</td>\n",
       "      <td>NaN</td>\n",
       "      <td>NaN</td>\n",
       "      <td>NaN</td>\n",
       "      <td>NaN</td>\n",
       "      <td>182466</td>\n",
       "      <td>257817</td>\n",
       "    </tr>\n",
       "    <tr>\n",
       "      <th>BANNANTINE JAMES M</th>\n",
       "      <td>NaN</td>\n",
       "      <td>NaN</td>\n",
       "      <td>-5104</td>\n",
       "      <td>NaN</td>\n",
       "      <td>james.bannantine@enron.com</td>\n",
       "      <td>4046157</td>\n",
       "      <td>56301</td>\n",
       "      <td>29</td>\n",
       "      <td>39</td>\n",
       "      <td>0</td>\n",
       "      <td>...</td>\n",
       "      <td>NaN</td>\n",
       "      <td>864523</td>\n",
       "      <td>False</td>\n",
       "      <td>1757552</td>\n",
       "      <td>-560222</td>\n",
       "      <td>477</td>\n",
       "      <td>465</td>\n",
       "      <td>566</td>\n",
       "      <td>916197</td>\n",
       "      <td>5243487</td>\n",
       "    </tr>\n",
       "    <tr>\n",
       "      <th>BAXTER JOHN C</th>\n",
       "      <td>1200000</td>\n",
       "      <td>1295738</td>\n",
       "      <td>-1386055</td>\n",
       "      <td>NaN</td>\n",
       "      <td>NaN</td>\n",
       "      <td>6680544</td>\n",
       "      <td>11200</td>\n",
       "      <td>NaN</td>\n",
       "      <td>NaN</td>\n",
       "      <td>NaN</td>\n",
       "      <td>...</td>\n",
       "      <td>1586055</td>\n",
       "      <td>2660303</td>\n",
       "      <td>False</td>\n",
       "      <td>3942714</td>\n",
       "      <td>NaN</td>\n",
       "      <td>267102</td>\n",
       "      <td>NaN</td>\n",
       "      <td>NaN</td>\n",
       "      <td>5634343</td>\n",
       "      <td>10623258</td>\n",
       "    </tr>\n",
       "    <tr>\n",
       "      <th>BAY FRANKLIN R</th>\n",
       "      <td>400000</td>\n",
       "      <td>260455</td>\n",
       "      <td>-201641</td>\n",
       "      <td>NaN</td>\n",
       "      <td>frank.bay@enron.com</td>\n",
       "      <td>NaN</td>\n",
       "      <td>129142</td>\n",
       "      <td>NaN</td>\n",
       "      <td>NaN</td>\n",
       "      <td>NaN</td>\n",
       "      <td>...</td>\n",
       "      <td>NaN</td>\n",
       "      <td>69</td>\n",
       "      <td>False</td>\n",
       "      <td>145796</td>\n",
       "      <td>-82782</td>\n",
       "      <td>239671</td>\n",
       "      <td>NaN</td>\n",
       "      <td>NaN</td>\n",
       "      <td>827696</td>\n",
       "      <td>63014</td>\n",
       "    </tr>\n",
       "  </tbody>\n",
       "</table>\n",
       "<p>5 rows × 21 columns</p>\n",
       "</div>"
      ],
      "text/plain": [
       "                      bonus deferral_payments deferred_income director_fees  \\\n",
       "ALLEN PHILLIP K     4175000           2869717        -3081055           NaN   \n",
       "BADUM JAMES P           NaN            178980             NaN           NaN   \n",
       "BANNANTINE JAMES M      NaN               NaN           -5104           NaN   \n",
       "BAXTER JOHN C       1200000           1295738        -1386055           NaN   \n",
       "BAY FRANKLIN R       400000            260455         -201641           NaN   \n",
       "\n",
       "                                 email_address exercised_stock_options  \\\n",
       "ALLEN PHILLIP K        phillip.allen@enron.com                 1729541   \n",
       "BADUM JAMES P                              NaN                  257817   \n",
       "BANNANTINE JAMES M  james.bannantine@enron.com                 4046157   \n",
       "BAXTER JOHN C                              NaN                 6680544   \n",
       "BAY FRANKLIN R             frank.bay@enron.com                     NaN   \n",
       "\n",
       "                   expenses from_messages from_poi_to_this_person  \\\n",
       "ALLEN PHILLIP K       13868          2195                      47   \n",
       "BADUM JAMES P          3486           NaN                     NaN   \n",
       "BANNANTINE JAMES M    56301            29                      39   \n",
       "BAXTER JOHN C         11200           NaN                     NaN   \n",
       "BAY FRANKLIN R       129142           NaN                     NaN   \n",
       "\n",
       "                   from_this_person_to_poi        ...         \\\n",
       "ALLEN PHILLIP K                         65        ...          \n",
       "BADUM JAMES P                          NaN        ...          \n",
       "BANNANTINE JAMES M                       0        ...          \n",
       "BAXTER JOHN C                          NaN        ...          \n",
       "BAY FRANKLIN R                         NaN        ...          \n",
       "\n",
       "                   long_term_incentive    other    poi restricted_stock  \\\n",
       "ALLEN PHILLIP K                 304805      152  False           126027   \n",
       "BADUM JAMES P                      NaN      NaN  False              NaN   \n",
       "BANNANTINE JAMES M                 NaN   864523  False          1757552   \n",
       "BAXTER JOHN C                  1586055  2660303  False          3942714   \n",
       "BAY FRANKLIN R                     NaN       69  False           145796   \n",
       "\n",
       "                   restricted_stock_deferred  salary shared_receipt_with_poi  \\\n",
       "ALLEN PHILLIP K                      -126027  201955                    1407   \n",
       "BADUM JAMES P                            NaN     NaN                     NaN   \n",
       "BANNANTINE JAMES M                   -560222     477                     465   \n",
       "BAXTER JOHN C                            NaN  267102                     NaN   \n",
       "BAY FRANKLIN R                        -82782  239671                     NaN   \n",
       "\n",
       "                   to_messages total_payments total_stock_value  \n",
       "ALLEN PHILLIP K           2902        4484442           1729541  \n",
       "BADUM JAMES P              NaN         182466            257817  \n",
       "BANNANTINE JAMES M         566         916197           5243487  \n",
       "BAXTER JOHN C              NaN        5634343          10623258  \n",
       "BAY FRANKLIN R             NaN         827696             63014  \n",
       "\n",
       "[5 rows x 21 columns]"
      ]
     },
     "execution_count": 5,
     "metadata": {},
     "output_type": "execute_result"
    }
   ],
   "source": [
    "enron_df.head()"
   ]
  },
  {
   "cell_type": "code",
   "execution_count": 12,
   "metadata": {
    "collapsed": false
   },
   "outputs": [
    {
     "data": {
      "text/html": [
       "<div>\n",
       "<table border=\"1\" class=\"dataframe\">\n",
       "  <thead>\n",
       "    <tr style=\"text-align: right;\">\n",
       "      <th></th>\n",
       "      <th>bonus</th>\n",
       "      <th>deferral_payments</th>\n",
       "      <th>deferred_income</th>\n",
       "      <th>director_fees</th>\n",
       "      <th>email_address</th>\n",
       "      <th>exercised_stock_options</th>\n",
       "      <th>expenses</th>\n",
       "      <th>from_messages</th>\n",
       "      <th>from_poi_to_this_person</th>\n",
       "      <th>from_this_person_to_poi</th>\n",
       "      <th>...</th>\n",
       "      <th>long_term_incentive</th>\n",
       "      <th>other</th>\n",
       "      <th>poi</th>\n",
       "      <th>restricted_stock</th>\n",
       "      <th>restricted_stock_deferred</th>\n",
       "      <th>salary</th>\n",
       "      <th>shared_receipt_with_poi</th>\n",
       "      <th>to_messages</th>\n",
       "      <th>total_payments</th>\n",
       "      <th>total_stock_value</th>\n",
       "    </tr>\n",
       "  </thead>\n",
       "  <tbody>\n",
       "    <tr>\n",
       "      <th>PRENTICE JAMES</th>\n",
       "      <td>NaN</td>\n",
       "      <td>564348</td>\n",
       "      <td>NaN</td>\n",
       "      <td>NaN</td>\n",
       "      <td>james.prentice@enron.com</td>\n",
       "      <td>886231</td>\n",
       "      <td>NaN</td>\n",
       "      <td>NaN</td>\n",
       "      <td>NaN</td>\n",
       "      <td>NaN</td>\n",
       "      <td>...</td>\n",
       "      <td>NaN</td>\n",
       "      <td>NaN</td>\n",
       "      <td>False</td>\n",
       "      <td>208809</td>\n",
       "      <td>NaN</td>\n",
       "      <td>NaN</td>\n",
       "      <td>NaN</td>\n",
       "      <td>NaN</td>\n",
       "      <td>564348</td>\n",
       "      <td>1095040</td>\n",
       "    </tr>\n",
       "  </tbody>\n",
       "</table>\n",
       "<p>1 rows × 21 columns</p>\n",
       "</div>"
      ],
      "text/plain": [
       "               bonus deferral_payments deferred_income director_fees  \\\n",
       "PRENTICE JAMES   NaN            564348             NaN           NaN   \n",
       "\n",
       "                           email_address exercised_stock_options expenses  \\\n",
       "PRENTICE JAMES  james.prentice@enron.com                  886231      NaN   \n",
       "\n",
       "               from_messages from_poi_to_this_person from_this_person_to_poi  \\\n",
       "PRENTICE JAMES           NaN                     NaN                     NaN   \n",
       "\n",
       "                      ...        long_term_incentive other    poi  \\\n",
       "PRENTICE JAMES        ...                        NaN   NaN  False   \n",
       "\n",
       "               restricted_stock restricted_stock_deferred salary  \\\n",
       "PRENTICE JAMES           208809                       NaN    NaN   \n",
       "\n",
       "               shared_receipt_with_poi to_messages total_payments  \\\n",
       "PRENTICE JAMES                     NaN         NaN         564348   \n",
       "\n",
       "               total_stock_value  \n",
       "PRENTICE JAMES           1095040  \n",
       "\n",
       "[1 rows x 21 columns]"
      ]
     },
     "execution_count": 12,
     "metadata": {},
     "output_type": "execute_result"
    }
   ],
   "source": [
    "enron_df[enron_df.index == 'PRENTICE JAMES']"
   ]
  },
  {
   "cell_type": "code",
   "execution_count": 13,
   "metadata": {
    "collapsed": false
   },
   "outputs": [
    {
     "data": {
      "text/plain": [
       "PRENTICE JAMES    1095040\n",
       "Name: total_stock_value, dtype: object"
      ]
     },
     "execution_count": 13,
     "metadata": {},
     "output_type": "execute_result"
    }
   ],
   "source": [
    "enron_df[enron_df.index == 'PRENTICE JAMES'].total_stock_value"
   ]
  },
  {
   "cell_type": "markdown",
   "metadata": {},
   "source": [
    "email messages do we have from Wesley Colwell to persons of interest"
   ]
  },
  {
   "cell_type": "code",
   "execution_count": 17,
   "metadata": {
    "collapsed": false
   },
   "outputs": [
    {
     "data": {
      "text/plain": [
       "COLWELL WESLEY    11\n",
       "Name: from_this_person_to_poi, dtype: object"
      ]
     },
     "execution_count": 17,
     "metadata": {},
     "output_type": "execute_result"
    }
   ],
   "source": [
    "enron_df[enron_df.index == 'COLWELL WESLEY'].from_this_person_to_poi"
   ]
  },
  {
   "cell_type": "markdown",
   "metadata": {},
   "source": [
    "Value of stock options exercised by Jeffrey Skilling"
   ]
  },
  {
   "cell_type": "code",
   "execution_count": 22,
   "metadata": {
    "collapsed": false
   },
   "outputs": [
    {
     "data": {
      "text/plain": [
       "SKILLING JEFFREY K    19250000\n",
       "Name: exercised_stock_options, dtype: object"
      ]
     },
     "execution_count": 22,
     "metadata": {},
     "output_type": "execute_result"
    }
   ],
   "source": [
    "enron_df[enron_df.index.str.contains('SKILLING')].exercised_stock_options"
   ]
  },
  {
   "cell_type": "code",
   "execution_count": 35,
   "metadata": {
    "collapsed": false
   },
   "outputs": [
    {
     "data": {
      "text/plain": [
       "ALLEN PHILLIP K                 NaN\n",
       "BADUM JAMES P                   NaN\n",
       "BANNANTINE JAMES M              NaN\n",
       "BAXTER JOHN C                   NaN\n",
       "BAY FRANKLIN R                  NaN\n",
       "BAZELIDES PHILIP J              NaN\n",
       "BECK SALLY W                    NaN\n",
       "BELDEN TIMOTHY N                NaN\n",
       "BELFER ROBERT                   NaN\n",
       "BERBERIAN DAVID                 NaN\n",
       "BERGSIEKER RICHARD P            NaN\n",
       "BHATNAGAR SANJAY                NaN\n",
       "BIBI PHILIPPE A                 NaN\n",
       "BLACHMAN JEREMY M               NaN\n",
       "BLAKE JR. NORMAN P              NaN\n",
       "BOWEN JR RAYMOND M              NaN\n",
       "BROWN MICHAEL                   NaN\n",
       "BUCHANAN HAROLD G               NaN\n",
       "BUTTS ROBERT H                  NaN\n",
       "BUY RICHARD B                   NaN\n",
       "CALGER CHRISTOPHER F            NaN\n",
       "CARTER REBECCA C                NaN\n",
       "CAUSEY RICHARD A                NaN\n",
       "CHAN RONNIE                     NaN\n",
       "CHRISTODOULOU DIOMEDES          NaN\n",
       "CLINE KENNETH W                 NaN\n",
       "COLWELL WESLEY                  NaN\n",
       "CORDES WILLIAM R                NaN\n",
       "COX DAVID                       NaN\n",
       "CUMBERLAND MICHAEL S            NaN\n",
       "                                 ..\n",
       "SHANKMAN JEFFREY A              NaN\n",
       "SHAPIRO RICHARD S               NaN\n",
       "SHARP VICTORIA T                NaN\n",
       "SHELBY REX                      NaN\n",
       "SHERRICK JEFFREY B              NaN\n",
       "SHERRIFF JOHN R                 NaN\n",
       "SKILLING JEFFREY K              NaN\n",
       "STABLER FRANK                   NaN\n",
       "SULLIVAN-SHAKLOVITZ COLLEEN     NaN\n",
       "SUNDE MARTIN                    NaN\n",
       "TAYLOR MITCHELL S               NaN\n",
       "THE TRAVEL AGENCY IN THE PARK   NaN\n",
       "THORN TERENCE H                 NaN\n",
       "TILNEY ELIZABETH A              NaN\n",
       "TOTAL                           NaN\n",
       "UMANOFF ADAM S                  NaN\n",
       "URQUHART JOHN A                 NaN\n",
       "WAKEHAM JOHN                    NaN\n",
       "WALLS JR ROBERT H               NaN\n",
       "WALTERS GARETH W                NaN\n",
       "WASAFF GEORGE                   NaN\n",
       "WESTFAHL RICHARD K              NaN\n",
       "WHALEY DAVID A                  NaN\n",
       "WHALLEY LAWRENCE G              NaN\n",
       "WHITE JR THOMAS E               NaN\n",
       "WINOKUR JR. HERBERT S           NaN\n",
       "WODRASKA JOHN                   NaN\n",
       "WROBEL BRUCE                    NaN\n",
       "YEAGER F SCOTT                  NaN\n",
       "YEAP SOON                       NaN\n",
       "Name: total_payments, dtype: float64"
      ]
     },
     "execution_count": 35,
     "metadata": {},
     "output_type": "execute_result"
    }
   ],
   "source": [
    "enron_df.total_payments.str.replace('NaN', 0, case=False)"
   ]
  },
  {
   "cell_type": "code",
   "execution_count": 34,
   "metadata": {
    "collapsed": false
   },
   "outputs": [
    {
     "data": {
      "text/plain": [
       "ALLEN PHILLIP K                    4484442\n",
       "BADUM JAMES P                       182466\n",
       "BANNANTINE JAMES M                  916197\n",
       "BAXTER JOHN C                      5634343\n",
       "BAY FRANKLIN R                      827696\n",
       "BAZELIDES PHILIP J                  860136\n",
       "BECK SALLY W                        969068\n",
       "BELDEN TIMOTHY N                   5501630\n",
       "BELFER ROBERT                       102500\n",
       "BERBERIAN DAVID                     228474\n",
       "BERGSIEKER RICHARD P                618850\n",
       "BHATNAGAR SANJAY                  15456290\n",
       "BIBI PHILIPPE A                    2047593\n",
       "BLACHMAN JEREMY M                  2014835\n",
       "BLAKE JR. NORMAN P                    1279\n",
       "BOWEN JR RAYMOND M                 2669589\n",
       "BROWN MICHAEL                        49288\n",
       "BUCHANAN HAROLD G                  1054637\n",
       "BUTTS ROBERT H                     1271582\n",
       "BUY RICHARD B                      2355702\n",
       "CALGER CHRISTOPHER F               1639297\n",
       "CARTER REBECCA C                    477557\n",
       "CAUSEY RICHARD A                   1868758\n",
       "CHAN RONNIE                            NaN\n",
       "CHRISTODOULOU DIOMEDES                 NaN\n",
       "CLINE KENNETH W                        NaN\n",
       "COLWELL WESLEY                     1490344\n",
       "CORDES WILLIAM R                       NaN\n",
       "COX DAVID                          1101393\n",
       "CUMBERLAND MICHAEL S                807956\n",
       "                                   ...    \n",
       "SHANKMAN JEFFREY A                 3038702\n",
       "SHAPIRO RICHARD S                  1057548\n",
       "SHARP VICTORIA T                   1576511\n",
       "SHELBY REX                         2003885\n",
       "SHERRICK JEFFREY B                     NaN\n",
       "SHERRIFF JOHN R                    4335388\n",
       "SKILLING JEFFREY K                 8682716\n",
       "STABLER FRANK                      1112087\n",
       "SULLIVAN-SHAKLOVITZ COLLEEN         999356\n",
       "SUNDE MARTIN                       1545059\n",
       "TAYLOR MITCHELL S                  1092663\n",
       "THE TRAVEL AGENCY IN THE PARK       362096\n",
       "THORN TERENCE H                     911453\n",
       "TILNEY ELIZABETH A                  399393\n",
       "TOTAL                            309886585\n",
       "UMANOFF ADAM S                     1130461\n",
       "URQUHART JOHN A                     228656\n",
       "WAKEHAM JOHN                        213071\n",
       "WALLS JR ROBERT H                  1798780\n",
       "WALTERS GARETH W                     87410\n",
       "WASAFF GEORGE                      1034395\n",
       "WESTFAHL RICHARD K                  762135\n",
       "WHALEY DAVID A                         NaN\n",
       "WHALLEY LAWRENCE G                 4677574\n",
       "WHITE JR THOMAS E                  1934359\n",
       "WINOKUR JR. HERBERT S                84992\n",
       "WODRASKA JOHN                       189583\n",
       "WROBEL BRUCE                           NaN\n",
       "YEAGER F SCOTT                      360300\n",
       "YEAP SOON                            55097\n",
       "Name: total_payments, dtype: object"
      ]
     },
     "execution_count": 34,
     "metadata": {},
     "output_type": "execute_result"
    }
   ],
   "source": [
    "dfna.total_payments#sort_values('total_payments')"
   ]
  },
  {
   "cell_type": "markdown",
   "metadata": {},
   "source": [
    "Who got the most money and by how much?\n",
    "I had to first see what were the contents of 'total_payments'. Since there were 'NaN' values too, i couldnt sort them\n",
    "Therefore I had to first filter and then sort"
   ]
  },
  {
   "cell_type": "code",
   "execution_count": 9,
   "metadata": {
    "collapsed": false
   },
   "outputs": [
    {
     "data": {
      "text/plain": [
       "MENDELSOHN JOHN                  148\n",
       "HAUG DAVID L                     475\n",
       "BLAKE JR. NORMAN P              1279\n",
       "MEYER JEROME J                  2151\n",
       "SAVAGE FRANK                    3750\n",
       "HAYES ROBERT E                  7961\n",
       "PEREIRA PAULO V. FERRAZ        27942\n",
       "BROWN MICHAEL                  49288\n",
       "FUGH JOHN L                    50591\n",
       "YEAP SOON                      55097\n",
       "DUNCAN JOHN H                  77492\n",
       "JAEDICKE ROBERT                83750\n",
       "WINOKUR JR. HERBERT S          84992\n",
       "WALTERS GARETH W               87410\n",
       "LEMAISTRE CHARLES              87492\n",
       "HIRKO JOSEPH                   91093\n",
       "BELFER ROBERT                 102500\n",
       "REDMOND BRIAN L               111529\n",
       "GRAMM WENDY L                 119292\n",
       "FOY JOE                       181755\n",
       "BADUM JAMES P                 182466\n",
       "WODRASKA JOHN                 189583\n",
       "ELLIOTT STEVEN                211725\n",
       "WAKEHAM JOHN                  213071\n",
       "BERBERIAN DAVID               228474\n",
       "URQUHART JOHN A               228656\n",
       "OVERDYKE JR JERE C            249787\n",
       "HANNON KEVIN P                288682\n",
       "DODSON KEITH                  319941\n",
       "YEAGER F SCOTT                360300\n",
       "                             ...    \n",
       "GOLD JOSEPH                  2146973\n",
       "BUY RICHARD B                2355702\n",
       "DIMICHELE RICHARD G          2368151\n",
       "FASTOW ANDREW S              2424083\n",
       "KOPPER MICHAEL J             2652612\n",
       "LEFF DANIEL P                2664228\n",
       "BOWEN JR RAYMOND M           2669589\n",
       "ECHOLS JOHN B                2692324\n",
       "SHANKMAN JEFFREY A           3038702\n",
       "HUMPHREY GENE E              3100224\n",
       "PAI LOU L                    3123383\n",
       "HORTON STANLEY C             3131860\n",
       "MULLER MARK S                3202070\n",
       "KITCHEN LOUISE               3471141\n",
       "FALLON JAMES B               3676340\n",
       "HAEDICKE MARK E              3859065\n",
       "MCMAHON JEFFREY              4099771\n",
       "SHERRIFF JOHN R              4335388\n",
       "ALLEN PHILLIP K              4484442\n",
       "WHALLEY LAWRENCE G           4677574\n",
       "DELAINEY DAVID W             4747979\n",
       "BELDEN TIMOTHY N             5501630\n",
       "BAXTER JOHN C                5634343\n",
       "MARTIN AMANDA K              8407016\n",
       "SKILLING JEFFREY K           8682716\n",
       "LAVORATO JOHN J             10425757\n",
       "BHATNAGAR SANJAY            15456290\n",
       "FREVERT MARK A              17252530\n",
       "LAY KENNETH L              103559793\n",
       "TOTAL                      309886585\n",
       "Name: total_payments, dtype: object"
      ]
     },
     "execution_count": 9,
     "metadata": {},
     "output_type": "execute_result"
    }
   ],
   "source": [
    "enron_df[enron_df.total_payments !='NaN'].total_payments.sort_values()"
   ]
  },
  {
   "cell_type": "markdown",
   "metadata": {},
   "source": [
    "How many records have a quatifiable salary and a known email id?"
   ]
  },
  {
   "cell_type": "code",
   "execution_count": 11,
   "metadata": {
    "collapsed": false
   },
   "outputs": [
    {
     "data": {
      "text/plain": [
       "95"
      ]
     },
     "execution_count": 11,
     "metadata": {},
     "output_type": "execute_result"
    }
   ],
   "source": [
    "len(enron_df[enron_df.salary !='NaN'].salary)"
   ]
  },
  {
   "cell_type": "code",
   "execution_count": 12,
   "metadata": {
    "collapsed": false
   },
   "outputs": [
    {
     "data": {
      "text/plain": [
       "111"
      ]
     },
     "execution_count": 12,
     "metadata": {},
     "output_type": "execute_result"
    }
   ],
   "source": [
    "len(enron_df[enron_df.email_address !='NaN'].email_address)"
   ]
  },
  {
   "cell_type": "code",
   "execution_count": null,
   "metadata": {
    "collapsed": false
   },
   "outputs": [],
   "source": []
  },
  {
   "cell_type": "code",
   "execution_count": null,
   "metadata": {
    "collapsed": true
   },
   "outputs": [],
   "source": []
  },
  {
   "cell_type": "code",
   "execution_count": null,
   "metadata": {
    "collapsed": true
   },
   "outputs": [],
   "source": []
  },
  {
   "cell_type": "code",
   "execution_count": null,
   "metadata": {
    "collapsed": true
   },
   "outputs": [],
   "source": []
  }
 ],
 "metadata": {
  "kernelspec": {
   "display_name": "Python 3",
   "language": "python",
   "name": "python3"
  },
  "language_info": {
   "codemirror_mode": {
    "name": "ipython",
    "version": 3
   },
   "file_extension": ".py",
   "mimetype": "text/x-python",
   "name": "python",
   "nbconvert_exporter": "python",
   "pygments_lexer": "ipython3",
   "version": "3.5.1"
  }
 },
 "nbformat": 4,
 "nbformat_minor": 0
}
